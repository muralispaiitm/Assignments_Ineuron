{
 "cells": [
  {
   "cell_type": "markdown",
   "metadata": {},
   "source": [
    "# Python Assignment 1"
   ]
  },
  {
   "cell_type": "markdown",
   "metadata": {},
   "source": [
    "##### Question 1\n",
    "Write a program which will find all such numbers which are divisible by 7 but are not a multiple of 5, between 2000 and 3200 (both included). The numbers obtained should be printed in a comma-separated sequence on a single line.\n"
   ]
  },
  {
   "cell_type": "markdown",
   "metadata": {},
   "source": [
    "##### Observation and Hits:\n",
    "Condition 1: Number is between 2000 adnd 3200 (both included)   \n",
    "Condition 2: Number is disible by 7   \n",
    "Condition 3: Number is not disible by 5   "
   ]
  },
  {
   "cell_type": "markdown",
   "metadata": {},
   "source": [
    "##### Method 1\n",
    "Using List comprehension"
   ]
  },
  {
   "cell_type": "code",
   "execution_count": null,
   "metadata": {},
   "outputs": [],
   "source": [
    "[num for num in range(2000,3201) if ((num%7 == 0) and (num%5 != 0))]"
   ]
  },
  {
   "cell_type": "markdown",
   "metadata": {},
   "source": [
    "##### Method 2"
   ]
  },
  {
   "cell_type": "code",
   "execution_count": null,
   "metadata": {},
   "outputs": [],
   "source": [
    "num_list = []\n",
    "for i in range(2000,3201):\n",
    "    if (i%7 == 0) and (i%5 != 0):\n",
    "        num_list.append(i)\n",
    "\n",
    "num_list"
   ]
  },
  {
   "cell_type": "markdown",
   "metadata": {},
   "source": [
    "##### Method 3"
   ]
  },
  {
   "cell_type": "code",
   "execution_count": null,
   "metadata": {},
   "outputs": [],
   "source": [
    "num_list = []\n",
    "for num in range(2000,3201):  # Loop for Condition 1 in the observation\n",
    "    if (num%7 == 0):          # If condition for for Condition 2 in the observation\n",
    "        if (num%5 != 0):      # If condition for for Condition 3 in the observation\n",
    "        num_list.append(num)\n",
    "\n",
    "num_list"
   ]
  },
  {
   "cell_type": "markdown",
   "metadata": {},
   "source": [
    "##### Question 2\n",
    "Write a Python program to accept the user's first and last name and then getting them printed in the the reverse order with a space between first name and last name."
   ]
  },
  {
   "cell_type": "markdown",
   "metadata": {},
   "source": [
    "##### Observations:\n",
    "1. Ask user to enter \"first_name\".\n",
    "2. Ask user to enter \"last_name\".\n",
    "3. Reverse \"first_name\" and \"last_name\"\n",
    "4. Print them as \"first_name last_name\""
   ]
  },
  {
   "cell_type": "markdown",
   "metadata": {},
   "source": [
    "##### Method 1"
   ]
  },
  {
   "cell_type": "code",
   "execution_count": 2,
   "metadata": {},
   "outputs": [
    {
     "name": "stdout",
     "output_type": "stream",
     "text": [
      "Enter your first_name: SARITHA\n",
      "Enter your last_name: JALIGAMA\n",
      "Your actual name is SARITHA JALIGAMA\n",
      "Your name in reverse order is AMAGILAJ AHTIRAS\n"
     ]
    }
   ],
   "source": [
    "first_name = input(\"Enter your first_name: \")\n",
    "last_name = input(\"Enter your last_name: \")\n",
    "print('Your actual name is {}'.format(first_name + \" \" + last_name))\n",
    "\n",
    "print('Your name in reverse order is {}'.format(last_name[::-1]) + \" \" + first_name[::-1])"
   ]
  },
  {
   "cell_type": "markdown",
   "metadata": {},
   "source": [
    "##### Question 3\n",
    "Write a Python program to find the volume of a sphere with diameter 12 cm. \n",
    "Formula: V = 4/3 * π * r^3"
   ]
  },
  {
   "cell_type": "markdown",
   "metadata": {},
   "source": [
    "##### Observations:\n",
    "1. Given diametre : 12 cm  \n",
    "2. Find radius from diametre (i.e, radius(r) = diametre/2)  \n",
    "3. Substitute this radius (r) in the below formulae  \n",
    "4. Volume of the Sphere in formula : V = 4/3 * π * r^3  "
   ]
  },
  {
   "cell_type": "code",
   "execution_count": 9,
   "metadata": {},
   "outputs": [
    {
     "name": "stdout",
     "output_type": "stream",
     "text": [
      "Sphere Details: \n",
      "===========================\n",
      "Diametre (Given): 12 cm\n",
      "Radius \t\t: 6.0 cm\n",
      "Volume \t\t: 904.7786842338603 cubic cm\n"
     ]
    }
   ],
   "source": [
    "# Importing Required Libraries\n",
    "import math\n",
    "# Given information\n",
    "diametre = 12\n",
    "# Finding the Radius of the Sphere by using given diametre\n",
    "radius = diametre/2\n",
    "# Finding Volume of the Sphere by given foluma V = 4/3 * π * r^3\n",
    "volume_of_sphere = (4/3)*(math.pi)*(radius**3)\n",
    "\n",
    "print(\"Sphere Details: \")\n",
    "print(\"===========================\")\n",
    "print(\"Diametre (Given): {} cm\".format(diametre))\n",
    "print(\"Radius \\t\\t: {} cm\".format(radius))\n",
    "print(\"Volume \\t\\t: {} cubic cm\".format(volume_of_sphere))"
   ]
  }
 ],
 "metadata": {
  "kernelspec": {
   "display_name": "Python 3",
   "language": "python",
   "name": "python3"
  },
  "language_info": {
   "codemirror_mode": {
    "name": "ipython",
    "version": 3
   },
   "file_extension": ".py",
   "mimetype": "text/x-python",
   "name": "python",
   "nbconvert_exporter": "python",
   "pygments_lexer": "ipython3",
   "version": "3.7.6"
  }
 },
 "nbformat": 4,
 "nbformat_minor": 4
}
