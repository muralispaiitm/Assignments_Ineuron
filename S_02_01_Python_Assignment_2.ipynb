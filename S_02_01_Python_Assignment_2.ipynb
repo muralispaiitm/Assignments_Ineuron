{
 "cells": [
  {
   "cell_type": "markdown",
   "metadata": {},
   "source": [
    "### Python Assignments 2"
   ]
  },
  {
   "cell_type": "markdown",
   "metadata": {},
   "source": [
    "##### Question 1\n",
    "Create the below pattern using nested for loop in Python.\n",
    "<img src=\"Stars_Pattern.JPG\">"
   ]
  },
  {
   "cell_type": "markdown",
   "metadata": {},
   "source": [
    "##### Method 1"
   ]
  },
  {
   "cell_type": "code",
   "execution_count": 1,
   "metadata": {},
   "outputs": [
    {
     "name": "stdout",
     "output_type": "stream",
     "text": [
      "*\n",
      "**\n",
      "***\n",
      "****\n",
      "*****\n",
      "****\n",
      "***\n",
      "**\n",
      "*\n"
     ]
    }
   ],
   "source": [
    "for row in range(1, 6):\n",
    "    print('*'*row)\n",
    "for row in range(1,5):\n",
    "    print('*'*(5-row))"
   ]
  },
  {
   "cell_type": "markdown",
   "metadata": {},
   "source": [
    "##### Method 2\n",
    "Printing required stars based on user input "
   ]
  },
  {
   "cell_type": "code",
   "execution_count": 43,
   "metadata": {},
   "outputs": [
    {
     "name": "stdout",
     "output_type": "stream",
     "text": [
      "Enter any positive integer : 5\n",
      "*\n",
      "**\n",
      "***\n",
      "****\n",
      "*****\n",
      "****\n",
      "***\n",
      "**\n",
      "*\n"
     ]
    }
   ],
   "source": [
    "n = int(input('Enter any positive integer : '))\n",
    "range(1,n)\n",
    "\n",
    "for row in range(1, n+1):\n",
    "    print('*'*row)\n",
    "for row in range(1,n):\n",
    "    print('*'*(n-row))"
   ]
  },
  {
   "cell_type": "markdown",
   "metadata": {},
   "source": [
    "##### Method 3\n",
    "Using Nested loop"
   ]
  },
  {
   "cell_type": "code",
   "execution_count": 6,
   "metadata": {},
   "outputs": [
    {
     "name": "stdout",
     "output_type": "stream",
     "text": [
      "*    \n",
      "**   \n",
      "***  \n",
      "**** \n",
      "*****\n",
      "****\n",
      "*** \n",
      "**  \n",
      "*   \n"
     ]
    }
   ],
   "source": [
    "stars = ''\n",
    "for i in range(5):\n",
    "    for j in range(5):\n",
    "        if (j<=i):\n",
    "            stars += '*'\n",
    "        else:\n",
    "            stars += ' '\n",
    "    print(stars)\n",
    "    stars = ''\n",
    "\n",
    "for i in range(4):\n",
    "    for j in range(4):\n",
    "        if (i<=j):\n",
    "            stars += '*'\n",
    "        else:\n",
    "            stars += ' '\n",
    "    print(stars[::-1])\n",
    "    stars = ''"
   ]
  },
  {
   "cell_type": "markdown",
   "metadata": {},
   "source": [
    "##### Method 4\n",
    "Using nested loop"
   ]
  },
  {
   "cell_type": "code",
   "execution_count": 7,
   "metadata": {},
   "outputs": [
    {
     "name": "stdout",
     "output_type": "stream",
     "text": [
      "*    \n",
      "**   \n",
      "***  \n",
      "**** \n",
      "*****\n",
      "**** \n",
      "***  \n",
      "**   \n",
      "*    \n"
     ]
    }
   ],
   "source": [
    "stars = ''\n",
    "for i in range(9):\n",
    "    for j in range(5):\n",
    "        if (i<=4):\n",
    "            if (j<=i):\n",
    "                stars += '*'\n",
    "            else:\n",
    "                stars += ' '\n",
    "        else:\n",
    "            if (i-4 <= j):\n",
    "                stars += '*'\n",
    "            else:\n",
    "                stars += ' '\n",
    "            \n",
    "    if (i<=4):\n",
    "        print(stars)\n",
    "    else:\n",
    "        print(stars[::-1])\n",
    "    stars = ''"
   ]
  },
  {
   "cell_type": "markdown",
   "metadata": {},
   "source": [
    "##### Question 2\n",
    "Write a Python program to reverse a word after accepting the input from the user."
   ]
  },
  {
   "cell_type": "code",
   "execution_count": 34,
   "metadata": {},
   "outputs": [
    {
     "name": "stdout",
     "output_type": "stream",
     "text": [
      "Please enter your input \t: yes\n",
      "Reverse of the given word \t: sey\n"
     ]
    }
   ],
   "source": [
    "user_input = input('Please enter your input \\t: ')\n",
    "print('Reverse of the given word \\t:',user_input[::-1])"
   ]
  }
 ],
 "metadata": {
  "kernelspec": {
   "display_name": "Python 3",
   "language": "python",
   "name": "python3"
  },
  "language_info": {
   "codemirror_mode": {
    "name": "ipython",
    "version": 3
   },
   "file_extension": ".py",
   "mimetype": "text/x-python",
   "name": "python",
   "nbconvert_exporter": "python",
   "pygments_lexer": "ipython3",
   "version": "3.7.6"
  }
 },
 "nbformat": 4,
 "nbformat_minor": 4
}
