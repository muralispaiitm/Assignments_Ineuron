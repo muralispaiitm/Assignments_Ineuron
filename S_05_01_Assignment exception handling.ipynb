{
 "cells": [
  {
   "cell_type": "markdown",
   "metadata": {},
   "source": [
    "# S_05_01_Assignment exception handling"
   ]
  },
  {
   "cell_type": "markdown",
   "metadata": {},
   "source": [
    "**Question 1** ==================================================================================================  \n",
    "Write a function to compute 5/0 and use try/except to catch the exceptions."
   ]
  },
  {
   "cell_type": "code",
   "execution_count": 1,
   "metadata": {},
   "outputs": [
    {
     "name": "stdout",
     "output_type": "stream",
     "text": [
      "Enter integer value of a: 5\n",
      "Enter integer value of b: 0\n",
      "\n",
      "Error!!! Please enter non-zero integer value for b\n"
     ]
    }
   ],
   "source": [
    "# Defining a function which takes two arguments and return division of them\n",
    "def div(a, b):\n",
    "    return a/b\n",
    "\n",
    "# ---------------------------------------------------------------------------\n",
    "# Provide a and b values are only integers\n",
    "try:\n",
    "    a = int(input(\"Enter integer value of a: \"))\n",
    "    b = int(input(\"Enter integer value of b: \"))\n",
    "    result = div(a, b)\n",
    "except ZeroDivisionError:\n",
    "    print(\"\\nError!!! Please enter non-zero integer value for b\")\n",
    "else:\n",
    "    print(\"\\nDivision of a={} and b={} is {}\".format(a, b, result))"
   ]
  },
  {
   "cell_type": "markdown",
   "metadata": {},
   "source": [
    "**Question 2** ==================================================================================================  \n",
    "Implement a Python program to generate all sentences where subject is in [\"Americans\", \"Indians\"] and verb is in [\"Play\", \"watch\"] and the object is in [\"Baseball\",\"cricket\"]."
   ]
  },
  {
   "cell_type": "code",
   "execution_count": 2,
   "metadata": {},
   "outputs": [
    {
     "name": "stdout",
     "output_type": "stream",
     "text": [
      "Americans Play Baseball\n",
      "Americans Play cricket\n",
      "Americans watch Baseball\n",
      "Americans watch cricket\n",
      "Indians Play Baseball\n",
      "Indians Play cricket\n",
      "Indians watch Baseball\n",
      "Indians watch cricket\n"
     ]
    }
   ],
   "source": [
    "subjects = [\"Americans\", \"Indians\"]\n",
    "verbs = [\"Play\", \"watch\"]\n",
    "objects = [\"Baseball\",\"cricket\"]\n",
    "\n",
    "for sub in subjects:\n",
    "    for verb in verbs:\n",
    "        for obj in objects:\n",
    "            print(sub + \" \" + verb + \" \" + obj)"
   ]
  }
 ],
 "metadata": {
  "kernelspec": {
   "display_name": "Python 3",
   "language": "python",
   "name": "python3"
  },
  "language_info": {
   "codemirror_mode": {
    "name": "ipython",
    "version": 3
   },
   "file_extension": ".py",
   "mimetype": "text/x-python",
   "name": "python",
   "nbconvert_exporter": "python",
   "pygments_lexer": "ipython3",
   "version": "3.7.6"
  }
 },
 "nbformat": 4,
 "nbformat_minor": 4
}
