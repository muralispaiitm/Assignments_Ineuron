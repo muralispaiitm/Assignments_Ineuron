{
 "cells": [
  {
   "cell_type": "markdown",
   "metadata": {},
   "source": [
    "# Python_Practice_1"
   ]
  },
  {
   "cell_type": "markdown",
   "metadata": {},
   "source": [
    "### Question 1\n",
    "Write a Python program to sum all the items in a list.\n",
    "\n",
    "\n",
    "==================================================================================================================="
   ]
  },
  {
   "cell_type": "markdown",
   "metadata": {},
   "source": [
    "##### Method 1 : \n",
    "Using \"__reduce( )__\""
   ]
  },
  {
   "cell_type": "code",
   "execution_count": 9,
   "metadata": {},
   "outputs": [
    {
     "name": "stdout",
     "output_type": "stream",
     "text": [
      "Sum of the number of the list [1, 5, 7, 9, 12, 15, 22] is 71\n"
     ]
    }
   ],
   "source": [
    "    # Importing required libraries\n",
    "import functools\n",
    "\n",
    "    # Defining a List\n",
    "List = [1, 5, 7, 9, 12, 15, 22]\n",
    "\n",
    "    # Calling the reduce function and store in a variable\n",
    "sum_of_list = functools.reduce(lambda x,y: x+y, List)\n",
    "\n",
    "    # Print the result\n",
    "print('Sum of the number of the list {} is {}'.format(List, sum_of_list))"
   ]
  },
  {
   "cell_type": "markdown",
   "metadata": {},
   "source": [
    "##### Method 2 :\n",
    "Using \"__Function__\" and \"__for loop__\""
   ]
  },
  {
   "cell_type": "code",
   "execution_count": 7,
   "metadata": {},
   "outputs": [
    {
     "name": "stdout",
     "output_type": "stream",
     "text": [
      "Sum of the number of the list [1, 5, 7, 9, 12, 15, 22] is 71\n"
     ]
    }
   ],
   "source": [
    "    # Defining a List\n",
    "List = [1, 5, 7, 9, 12, 15, 22]\n",
    "\n",
    "    # Defining a fucntion which returns the sum of all the numbers from the given list\n",
    "def sum_of_list(List):\n",
    "    result = 0\n",
    "    for num in List:\n",
    "        result = result + num\n",
    "    return result\n",
    "\n",
    "    # Printing the result\n",
    "print('Sum of the number of the list {} is {}'.format(List, sum_of_list(List)))"
   ]
  },
  {
   "cell_type": "markdown",
   "metadata": {},
   "source": [
    "### Question 2\n",
    "Write a Python program to count the number of strings where the string length is 2 or more and the first and last character are same from a given list of strings.\n",
    "\n",
    "==================================================================================================================="
   ]
  },
  {
   "cell_type": "markdown",
   "metadata": {},
   "source": [
    "##### Method 1\n",
    "__Required Conditions__:\n",
    "1. String Length is greater than 2.\n",
    "2. That string has same in first and last characters."
   ]
  },
  {
   "cell_type": "markdown",
   "metadata": {},
   "source": [
    "##### Method 1 :\n",
    "Using __List Comprehension__"
   ]
  },
  {
   "cell_type": "code",
   "execution_count": 18,
   "metadata": {},
   "outputs": [
    {
     "name": "stdout",
     "output_type": "stream",
     "text": [
      "Required strings in list are  ['pop', 'naveen', 'karthik', 'level', 'mom', 'that']\n",
      "Number of required strings are  6\n"
     ]
    }
   ],
   "source": [
    "    # Defining a List\n",
    "List = ['saritha', 'pop', 'naveen', 'karthik', 'gowtham', 'Sweety', 'bunny', 'karan', 'level', 'mom', 'that', 'k', 'ok']\n",
    "\n",
    "    # Finding required string using list comprehension\n",
    "Words_List = [word for word in List if ((len(word)>1) & (word[0]==word[-1]))]\n",
    "\n",
    "    # Printing the Result\n",
    "print('Required strings in list are ', Words_List)\n",
    "print('Number of required strings are ', len(Words_List))\n"
   ]
  },
  {
   "cell_type": "markdown",
   "metadata": {},
   "source": [
    "##### Method 2 :\n",
    "Using __Function__"
   ]
  },
  {
   "cell_type": "code",
   "execution_count": 43,
   "metadata": {},
   "outputs": [
    {
     "name": "stdout",
     "output_type": "stream",
     "text": [
      "Number of required strings are  6\n"
     ]
    }
   ],
   "source": [
    "# Defining a function\n",
    "# ---------------------------------------------------------\n",
    "def count_of_words(List):\n",
    "    count = 0\n",
    "    for word in List:\n",
    "        if len(word)>1 and word[0]==word[-1]:\n",
    "            count += 1\n",
    "    return count\n",
    "\n",
    "# Defining a List\n",
    "# ---------------------------------------------------------\n",
    "List = ['saritha', 'pop', 'naveen', 'karthik', 'gowtham', 'Sweety', 'bunny', 'karan', 'level', 'mom', 'that', 'k', 'ok']\n",
    "\n",
    "# Printing the Result\n",
    "# ---------------------------------------------------------\n",
    "print('Number of required strings are ', count_of_words(List))\n"
   ]
  },
  {
   "cell_type": "markdown",
   "metadata": {},
   "source": [
    "### Question 3\n",
    "Write a Python program to remove duplicates from a list.\n",
    "\n",
    "==================================================================================================================="
   ]
  },
  {
   "cell_type": "markdown",
   "metadata": {},
   "source": [
    "##### Method 1 :\n",
    "Using \"__set( )__\""
   ]
  },
  {
   "cell_type": "code",
   "execution_count": 48,
   "metadata": {},
   "outputs": [
    {
     "name": "stdout",
     "output_type": "stream",
     "text": [
      "List before removing duplicates:  [1, 5, 9, 4, 2, 1, 5, 9, 4, 9, 7, 12, 15, 13, 12] \n",
      "\n",
      "List after removing duplicates :  [1, 2, 4, 5, 7, 9, 12, 13, 15]\n"
     ]
    }
   ],
   "source": [
    "List = [1, 5, 9, 4, 2, 1, 5, 9, 4, 9, 7, 12, 15, 13, 12]\n",
    "print(\"List before removing duplicates: \", List, '\\n')\n",
    "print(\"List after removing duplicates : \", list(set(List)))"
   ]
  },
  {
   "cell_type": "markdown",
   "metadata": {},
   "source": [
    "##### Method 2 :\n",
    "Using \"__for loop__\""
   ]
  },
  {
   "cell_type": "code",
   "execution_count": 56,
   "metadata": {},
   "outputs": [
    {
     "name": "stdout",
     "output_type": "stream",
     "text": [
      "List before removing duplicates:  [1, 5, 9, 4, 2, 1, 5, 9, 4, 9, 7, 12, 15, 13, 12] \n",
      "\n",
      "List after removing duplicates :  [1, 5, 9, 4, 2, 7, 12, 15, 13]\n"
     ]
    }
   ],
   "source": [
    "# Defining a List\n",
    "# ---------------------------------------------------------\n",
    "List = [1, 5, 9, 4, 2, 1, 5, 9, 4, 9, 7, 12, 15, 13, 12]\n",
    "\n",
    "# Writing for loop\n",
    "# ---------------------------------------------------------\n",
    "Req_List = []\n",
    "for num in List:\n",
    "    if num not in Req_List:\n",
    "        Req_List.append(num)\n",
    "\n",
    "# Printing Result\n",
    "# ---------------------------------------------------------\n",
    "print(\"List before removing duplicates: \", List, '\\n')\n",
    "print(\"List after removing duplicates : \", Req_List)"
   ]
  },
  {
   "cell_type": "code",
   "execution_count": null,
   "metadata": {},
   "outputs": [],
   "source": []
  }
 ],
 "metadata": {
  "kernelspec": {
   "display_name": "Python 3",
   "language": "python",
   "name": "python3"
  },
  "language_info": {
   "codemirror_mode": {
    "name": "ipython",
    "version": 3
   },
   "file_extension": ".py",
   "mimetype": "text/x-python",
   "name": "python",
   "nbconvert_exporter": "python",
   "pygments_lexer": "ipython3",
   "version": "3.7.6"
  }
 },
 "nbformat": 4,
 "nbformat_minor": 4
}
