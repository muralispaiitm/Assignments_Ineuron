{
 "cells": [
  {
   "cell_type": "markdown",
   "metadata": {},
   "source": [
    "# S_03_01_Python_Assignment_4\n",
    "======================================================================================================="
   ]
  },
  {
   "cell_type": "markdown",
   "metadata": {},
   "source": [
    "### Question 1.1: Write a Python Program(with class concepts) to find the area of the triangle using the below formula.\n",
    "\n",
    "area = (s*(s-a)*(s-b)*(s-c)) ** 0.5\n",
    "\n",
    "Function to take the length of the sides of triangle from user should be defined in the parent\n",
    "class and function to calculate the area should be defined in subclass."
   ]
  },
  {
   "cell_type": "markdown",
   "metadata": {},
   "source": [
    "##### Method 1 :\n",
    "Using \"__class__\""
   ]
  },
  {
   "cell_type": "code",
   "execution_count": 1,
   "metadata": {},
   "outputs": [],
   "source": [
    "import math"
   ]
  },
  {
   "cell_type": "code",
   "execution_count": 2,
   "metadata": {},
   "outputs": [],
   "source": [
    "class Sides_of_triangle():\n",
    "    def __init__(self, a, b, c):\n",
    "        self.a = a\n",
    "        self.b = b\n",
    "        self.c = c\n",
    "\n",
    "class Triangle(Sides_of_triangle):\n",
    "    def __init__(self, *sides):\n",
    "        super(Triangle, self).__init__(*sides\n",
    "                                              )\n",
    "    def find_area(self):\n",
    "        s = (self.a + self.b + self.c)/2\n",
    "        area = math.sqrt(s*(s-self.a)*(s-self.b)*(s-self.c))\n",
    "        return area"
   ]
  },
  {
   "cell_type": "code",
   "execution_count": 3,
   "metadata": {},
   "outputs": [
    {
     "name": "stdout",
     "output_type": "stream",
     "text": [
      "Enter side1 of a triangle: 24\n",
      "Enter side2 of a triangle: 30\n",
      "Enter side3 of a triangle: 18\n"
     ]
    }
   ],
   "source": [
    "a = float(input(\"Enter side1 of a triangle: \"))\n",
    "b = float(input(\"Enter side2 of a triangle: \"))\n",
    "c = float(input(\"Enter side3 of a triangle: \"))"
   ]
  },
  {
   "cell_type": "code",
   "execution_count": 4,
   "metadata": {},
   "outputs": [
    {
     "name": "stdout",
     "output_type": "stream",
     "text": [
      "Area of the triangle with sides lengths 24.0,30.0,18.0 is 216.0 sq.units\n"
     ]
    }
   ],
   "source": [
    "Tri = Triangle(a,b,c)\n",
    "print(\"Area of the triangle with sides lengths {},{},{} is {} sq.units\".format(a,b,c,Tri.find_area()))"
   ]
  },
  {
   "cell_type": "markdown",
   "metadata": {},
   "source": [
    "##### Method 2 :\n",
    "Using \"__Function__\""
   ]
  },
  {
   "cell_type": "code",
   "execution_count": 5,
   "metadata": {},
   "outputs": [],
   "source": [
    "def area_of_triangle(a,b,c):\n",
    "    s = (a+b+c)/2\n",
    "    area =pow((s*(s-a)*(s-b)*(s-c)) , 0.5)\n",
    "    return area"
   ]
  },
  {
   "cell_type": "code",
   "execution_count": 6,
   "metadata": {
    "scrolled": true
   },
   "outputs": [
    {
     "data": {
      "text/plain": [
       "216.0"
      ]
     },
     "execution_count": 6,
     "metadata": {},
     "output_type": "execute_result"
    }
   ],
   "source": [
    "area_of_triangle(24, 30, 18)"
   ]
  },
  {
   "cell_type": "markdown",
   "metadata": {},
   "source": [
    "### Question 1.2 : Write a function filter_long_words() that takes a list of words and an integer n and returns the list of words that are longer than n.\n",
    "---------------------------------------------------------------------------------------------------     \n"
   ]
  },
  {
   "cell_type": "markdown",
   "metadata": {},
   "source": [
    "##### Method 1:"
   ]
  },
  {
   "cell_type": "code",
   "execution_count": 7,
   "metadata": {},
   "outputs": [],
   "source": [
    "# Writing the same function in short form\n",
    "def filter_long_words(InputList, num):\n",
    "    return [word for word in InputList if (len(word)>num)]"
   ]
  },
  {
   "cell_type": "code",
   "execution_count": 8,
   "metadata": {},
   "outputs": [
    {
     "name": "stdout",
     "output_type": "stream",
     "text": [
      "\n",
      "The words whose length are greater than 6 \n",
      " ----------------------------------------\n"
     ]
    },
    {
     "data": {
      "text/plain": [
       "['Sudhanshu', 'Saritha', 'Gowtham', 'Himacharan', 'Madhavi', 'Vanshika']"
      ]
     },
     "execution_count": 8,
     "metadata": {},
     "output_type": "execute_result"
    }
   ],
   "source": [
    "# Providing input list and a number\n",
    "List = ['Sudhanshu', 'Saritha', 'Gowtham', 'Himacharan', 'Madhavi', 'Chinnu', 'Kittu', 'Vanshika', 'Ravi', 'Ko', 'Ki', 'Kuv']\n",
    "Num = 6\n",
    "\n",
    "# Calling the function \"filter_long_words\"\n",
    "print('\\nThe words whose length are greater than', Num, '\\n','-'*40)\n",
    "filter_long_words(List, Num)"
   ]
  },
  {
   "cell_type": "markdown",
   "metadata": {},
   "source": [
    "##### Method 2 : Alternate method"
   ]
  },
  {
   "cell_type": "code",
   "execution_count": 9,
   "metadata": {},
   "outputs": [],
   "source": [
    "# Defining a \"filter_long_words()\" function with two arguments\n",
    "def filter_long_words1(InputList, num):\n",
    "    OutputList = []\n",
    "    \n",
    "    for word in InputList:\n",
    "        if (len(word) > num) :\n",
    "            OutputList.append(word)\n",
    "    [word for word in InputList if (len(word)>num)]\n",
    "\n",
    "    return OutputList"
   ]
  },
  {
   "cell_type": "code",
   "execution_count": 10,
   "metadata": {},
   "outputs": [
    {
     "name": "stdout",
     "output_type": "stream",
     "text": [
      "\n",
      "The words whose length are greater than 6 \n",
      " ----------------------------------------\n"
     ]
    },
    {
     "data": {
      "text/plain": [
       "['Sudhanshu', 'Saritha', 'Gowtham', 'Himacharan', 'Madhavi', 'Vanshika']"
      ]
     },
     "execution_count": 10,
     "metadata": {},
     "output_type": "execute_result"
    }
   ],
   "source": [
    "# Providing input list and a number\n",
    "List = ['Sudhanshu', 'Saritha', 'Gowtham', 'Himacharan', 'Madhavi', 'Chinnu', 'Kittu', 'Vanshika', 'Ravi', 'Ko', 'Ki', 'Kuv']\n",
    "Num = 6\n",
    "\n",
    "# Calling the function \"filter_long_words\"\n",
    "print('\\nThe words whose length are greater than', Num, '\\n','-'*40)\n",
    "filter_long_words1(List, Num)"
   ]
  },
  {
   "cell_type": "markdown",
   "metadata": {},
   "source": [
    "================================================================================================================="
   ]
  },
  {
   "cell_type": "markdown",
   "metadata": {},
   "source": [
    "### Question 2.1: Write a Python program using function concept that maps list of words into a list of integers representing the lengths of the corresponding words.\n",
    "---------------------------------------------------------------------------------------------------   \n",
    "Hint: If a list [ ab,cde,erty] is passed on to the python function output should come as [2,3,4] Here 2,3 and 4 are the lengths of the words in the list.\n"
   ]
  },
  {
   "cell_type": "code",
   "execution_count": 11,
   "metadata": {},
   "outputs": [],
   "source": [
    "# Defining \"my_filter\" function which filters the elements of the given list with the given conditional function\n",
    "def len_of_words(InputList):\n",
    "    return [len(word) for word in InputList]"
   ]
  },
  {
   "cell_type": "code",
   "execution_count": 12,
   "metadata": {},
   "outputs": [
    {
     "data": {
      "text/plain": [
       "[9, 7, 7, 10, 7, 6, 5, 8, 4, 2, 2, 3]"
      ]
     },
     "execution_count": 12,
     "metadata": {},
     "output_type": "execute_result"
    }
   ],
   "source": [
    "# Providing input list and a number\n",
    "List = ['Sudhanshu', 'Saritha', 'Gowtham', 'Himacharan', 'Madhavi', 'Chinnu', 'Kittu', 'Vanshika', 'Ravi', 'Ko', 'Ki', 'Kuv']\n",
    "\n",
    "# Calling the defined function\"len_of_words\"\n",
    "len_of_words(List)"
   ]
  },
  {
   "cell_type": "markdown",
   "metadata": {},
   "source": [
    "##### Alternative:"
   ]
  },
  {
   "cell_type": "code",
   "execution_count": 13,
   "metadata": {},
   "outputs": [
    {
     "data": {
      "text/plain": [
       "[9, 7, 7, 10, 7, 6, 5, 8, 4, 2, 2, 3]"
      ]
     },
     "execution_count": 13,
     "metadata": {},
     "output_type": "execute_result"
    }
   ],
   "source": [
    "List = ['Sudhanshu', 'Saritha', 'Gowtham', 'Himacharan', 'Madhavi', 'Chinnu', 'Kittu', 'Vanshika', 'Ravi', 'Ko', 'Ki', 'Kuv']\n",
    "\n",
    "[len(word) for word in List]"
   ]
  },
  {
   "cell_type": "markdown",
   "metadata": {},
   "source": [
    "### Question 2.2 Write a Python function which takes a character (i.e. a string of length 1) and returns True if it is a vowel, False otherwise.\n",
    "---------------------------------------------------------------------------------------------------  \n",
    "........................................................................................................................................................................................................................................................."
   ]
  },
  {
   "cell_type": "code",
   "execution_count": 14,
   "metadata": {},
   "outputs": [],
   "source": [
    "# Defining the function which takes letter and returns TRUE or FALSE if the given letter is VOWEL or NOT.\n",
    "def check_vowel(Letter):\n",
    "    return (Letter in \"AEIOUaeiou\")"
   ]
  },
  {
   "cell_type": "code",
   "execution_count": 15,
   "metadata": {},
   "outputs": [
    {
     "data": {
      "text/plain": [
       "True"
      ]
     },
     "execution_count": 15,
     "metadata": {},
     "output_type": "execute_result"
    }
   ],
   "source": [
    "# Calling the \"check_vowel\" fucntion\n",
    "check_vowel('a')"
   ]
  },
  {
   "cell_type": "markdown",
   "metadata": {},
   "source": [
    "##### Alternative"
   ]
  },
  {
   "cell_type": "code",
   "execution_count": 16,
   "metadata": {},
   "outputs": [],
   "source": [
    "def check_vowel(Letter):\n",
    "    if ((Letter in ['A', 'E', 'I', 'O', 'U']) or (Letter in ['a', 'e', 'i', 'o', 'u'])):\n",
    "        return \"True\"\n",
    "    else:\n",
    "        return 'False'"
   ]
  }
 ],
 "metadata": {
  "kernelspec": {
   "display_name": "Python 3",
   "language": "python",
   "name": "python3"
  },
  "language_info": {
   "codemirror_mode": {
    "name": "ipython",
    "version": 3
   },
   "file_extension": ".py",
   "mimetype": "text/x-python",
   "name": "python",
   "nbconvert_exporter": "python",
   "pygments_lexer": "ipython3",
   "version": "3.7.6"
  }
 },
 "nbformat": 4,
 "nbformat_minor": 4
}
